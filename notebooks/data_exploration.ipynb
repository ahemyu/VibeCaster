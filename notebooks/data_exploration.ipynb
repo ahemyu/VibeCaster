{
 "cells": [
  {
   "cell_type": "code",
   "execution_count": 11,
   "metadata": {},
   "outputs": [],
   "source": [
    "import numpy as np\n",
    "import pandas as pd\n",
    "import json\n",
    "import gzip\n",
    "# 'C:\\\\Users\\\\emovi\\\\Desktop\\\\VibeCaster\\\\VibeCaster\\\\data\\\\Software_5.json'\n",
    "#C:\\Users\\emovi\\Desktop\\VibeCaster\\VibeCaster\\data\\Software_5.json(1).gz"
   ]
  },
  {
   "cell_type": "code",
   "execution_count": 13,
   "metadata": {},
   "outputs": [],
   "source": [
    "def parse(path):\n",
    "  g = gzip.open(path, 'rb')\n",
    "  for l in g:\n",
    "    yield json.loads(l)\n",
    "\n",
    "def getDF(path):\n",
    "  i = 0\n",
    "  df = {}\n",
    "  for d in parse(path):\n",
    "    df[i] = d\n",
    "    i += 1\n",
    "  return pd.DataFrame.from_dict(df, orient='index')\n",
    "\n",
    "df = getDF('C:\\\\Users\\\\emovi\\\\Desktop\\\\VibeCaster\\\\VibeCaster\\\\data\\\\Industrial_and_Scientific_5.json.gz')"
   ]
  },
  {
   "cell_type": "code",
   "execution_count": 17,
   "metadata": {},
   "outputs": [
    {
     "name": "stdout",
     "output_type": "stream",
     "text": [
      "(77071, 12)\n",
      "<class 'pandas.core.frame.DataFrame'>\n",
      "Index: 77071 entries, 0 to 77070\n",
      "Data columns (total 12 columns):\n",
      " #   Column          Non-Null Count  Dtype  \n",
      "---  ------          --------------  -----  \n",
      " 0   overall         77071 non-null  float64\n",
      " 1   verified        77071 non-null  bool   \n",
      " 2   reviewTime      77071 non-null  object \n",
      " 3   reviewerID      77071 non-null  object \n",
      " 4   asin            77071 non-null  object \n",
      " 5   style           36037 non-null  object \n",
      " 6   reviewerName    77044 non-null  object \n",
      " 7   reviewText      77060 non-null  object \n",
      " 8   summary         77061 non-null  object \n",
      " 9   unixReviewTime  77071 non-null  int64  \n",
      " 10  vote            9620 non-null   object \n",
      " 11  image           1719 non-null   object \n",
      "dtypes: bool(1), float64(1), int64(1), object(9)\n",
      "memory usage: 7.1+ MB\n",
      "None\n",
      "            overall  unixReviewTime\n",
      "count  77071.000000    7.707100e+04\n",
      "mean       4.524062    1.454857e+09\n",
      "std        0.949668    4.559407e+07\n",
      "min        1.000000    1.051402e+09\n",
      "25%        4.000000    1.427674e+09\n",
      "50%        5.000000    1.459469e+09\n",
      "75%        5.000000    1.486944e+09\n",
      "max        5.000000    1.538093e+09\n"
     ]
    }
   ],
   "source": [
    " # summary statistics\n",
    "print(df.shape) # \n",
    "print(df.info())\n",
    "print(df.describe())"
   ]
  },
  {
   "cell_type": "code",
   "execution_count": 18,
   "metadata": {},
   "outputs": [
    {
     "name": "stdout",
     "output_type": "stream",
     "text": [
      "overall               0\n",
      "verified              0\n",
      "reviewTime            0\n",
      "reviewerID            0\n",
      "asin                  0\n",
      "style             41034\n",
      "reviewerName         27\n",
      "reviewText           11\n",
      "summary              10\n",
      "unixReviewTime        0\n",
      "vote              67451\n",
      "image             75352\n",
      "dtype: int64\n"
     ]
    }
   ],
   "source": [
    "print(df.isna().sum())"
   ]
  },
  {
   "cell_type": "code",
   "execution_count": 19,
   "metadata": {},
   "outputs": [],
   "source": [
    "# delete entrys with missin reviewText: \n",
    "df.dropna(subset=['reviewText'], inplace=True)"
   ]
  },
  {
   "cell_type": "code",
   "execution_count": 20,
   "metadata": {},
   "outputs": [],
   "source": [
    "# only keep overall and reviewText\n",
    "all_columns = df.columns.tolist()\n",
    "\n",
    "columns_to_keep = ['overall', 'reviewText']\n",
    "\n",
    "columns_to_drop = [col for col in all_columns if col not in columns_to_keep]\n",
    "\n",
    "df.drop(columns=columns_to_drop, inplace=True)"
   ]
  },
  {
   "cell_type": "code",
   "execution_count": 21,
   "metadata": {},
   "outputs": [
    {
     "name": "stdout",
     "output_type": "stream",
     "text": [
      "       overall                                         reviewText\n",
      "0          5.0  This worked really well for what I used it for...\n",
      "1          5.0                   Fast cutting and good adheasive.\n",
      "2          5.0  Worked great for my lapping bench.  I would li...\n",
      "3          4.0                                      As advertised\n",
      "4          5.0  seems like a pretty good value as opposed to b...\n",
      "...        ...                                                ...\n",
      "77066      5.0  So far it has worked like a champ. Great solut...\n",
      "77067      5.0  Great quality solid state relay. I used this s...\n",
      "77068      5.0  Came with everything needed to install in my M...\n",
      "77069      5.0  Installed a month ago in my Monoprice Maker Se...\n",
      "77070      5.0  This releaves the mothere board of the current...\n",
      "\n",
      "[77060 rows x 2 columns]\n"
     ]
    }
   ],
   "source": [
    "print(df)"
   ]
  },
  {
   "cell_type": "code",
   "execution_count": 24,
   "metadata": {},
   "outputs": [
    {
     "name": "stdout",
     "output_type": "stream",
     "text": [
      "            overall\n",
      "count  77060.000000\n",
      "mean       4.524046\n",
      "std        0.949636\n",
      "min        1.000000\n",
      "25%        4.000000\n",
      "50%        5.000000\n",
      "75%        5.000000\n",
      "max        5.000000\n"
     ]
    }
   ],
   "source": [
    "print(df.describe())"
   ]
  },
  {
   "cell_type": "code",
   "execution_count": 25,
   "metadata": {},
   "outputs": [],
   "source": [
    "# create new col sentiment to train the model on\n",
    "\n",
    "def classify_sentiment(overall_score):\n",
    "    if 1 <= overall_score <= 2:\n",
    "        return 1  # Negative\n",
    "    elif overall_score == 3:\n",
    "        return 0  # Neutral\n",
    "    elif 4 <= overall_score <= 5:\n",
    "        return 2  # Positive\n",
    "\n",
    "# Apply the function to the 'overall' column to create the 'sentiment' column\n",
    "df['sentiment'] = df['overall'].apply(classify_sentiment)"
   ]
  },
  {
   "cell_type": "code",
   "execution_count": 26,
   "metadata": {},
   "outputs": [
    {
     "name": "stdout",
     "output_type": "stream",
     "text": [
      "   overall                                         reviewText  sentiment\n",
      "0      5.0  This worked really well for what I used it for...          2\n",
      "1      5.0                   Fast cutting and good adheasive.          2\n",
      "2      5.0  Worked great for my lapping bench.  I would li...          2\n",
      "3      4.0                                      As advertised          2\n",
      "4      5.0  seems like a pretty good value as opposed to b...          2\n",
      "sentiment\n",
      "2    68201\n",
      "0     4442\n",
      "1     4417\n",
      "Name: count, dtype: int64\n"
     ]
    }
   ],
   "source": [
    "print(df.head())\n",
    "\n",
    "# Count the number of each sentiment\n",
    "print(df['sentiment'].value_counts())\n"
   ]
  },
  {
   "cell_type": "code",
   "execution_count": null,
   "metadata": {},
   "outputs": [],
   "source": [
    "# dataset is heavily skewed on the positive side of things so might need to use cross-validation to account for it"
   ]
  }
 ],
 "metadata": {
  "kernelspec": {
   "display_name": "venv",
   "language": "python",
   "name": "python3"
  },
  "language_info": {
   "codemirror_mode": {
    "name": "ipython",
    "version": 3
   },
   "file_extension": ".py",
   "mimetype": "text/x-python",
   "name": "python",
   "nbconvert_exporter": "python",
   "pygments_lexer": "ipython3",
   "version": "3.10.4"
  }
 },
 "nbformat": 4,
 "nbformat_minor": 2
}
